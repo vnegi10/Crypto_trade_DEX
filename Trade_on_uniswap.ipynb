{
 "cells": [
  {
   "cell_type": "code",
   "execution_count": 1,
   "id": "a1712327-1747-44f7-804b-c9887b297fc1",
   "metadata": {},
   "outputs": [],
   "source": [
    "import requests as rq\n",
    "import json\n",
    "import pandas as pd\n",
    "pd.set_option('display.precision', 4,\n",
    "              'display.colheader_justify', 'center')\n",
    "import numpy as np\n",
    "import warnings\n",
    "import pytz\n",
    "import datetime\n",
    "import time\n",
    "from IPython.display import clear_output"
   ]
  },
  {
   "cell_type": "code",
   "execution_count": 2,
   "id": "4d9245f7-f0c1-434b-8def-2076733a8940",
   "metadata": {},
   "outputs": [],
   "source": [
    "# Get pro API key\n",
    "def get_pro_key():\n",
    "    f = open(\"/home/vikas/Documents/CG_pro_key.json\")\n",
    "    key_dict = json.load(f)\n",
    "    return key_dict[\"key\"]"
   ]
  },
  {
   "cell_type": "code",
   "execution_count": 3,
   "id": "79a3a395-82fd-4ce3-9627-726d12ebc0b1",
   "metadata": {},
   "outputs": [],
   "source": [
    "use_pro = {\n",
    "         \"accept\": \"application/json\",\n",
    "         \"x-cg-pro-api-key\" : get_pro_key()\n",
    "}"
   ]
  },
  {
   "cell_type": "code",
   "execution_count": 4,
   "id": "9cdaa705-b087-4b5b-ac9e-9344bc250976",
   "metadata": {},
   "outputs": [],
   "source": [
    "def get_response(endpoint, headers, params, URL):\n",
    "    url = \"\".join((URL, endpoint))\n",
    "    response = rq.get(url, headers = headers, params = params)\n",
    "    if response.status_code == 200:\n",
    "        data = response.json()\n",
    "        return data\n",
    "    else:\n",
    "        print(f\"Failed to fetch data, check status code {response.status_code}\")"
   ]
  },
  {
   "cell_type": "code",
   "execution_count": 5,
   "id": "06c766e5-f9b4-4dbc-9f56-f852f77f97a1",
   "metadata": {},
   "outputs": [],
   "source": [
    "PUB_URL = \"https://api.coingecko.com/api/v3\"\n",
    "PRO_URL = \"https://pro-api.coingecko.com/api/v3\""
   ]
  },
  {
   "cell_type": "markdown",
   "id": "ab52c667-ba03-4445-aaba-32de78c33b3b",
   "metadata": {},
   "source": [
    "## Get list of networks"
   ]
  },
  {
   "cell_type": "code",
   "execution_count": 6,
   "id": "0e11e04a-36cf-4fc7-9fc8-9b33974e6c94",
   "metadata": {},
   "outputs": [],
   "source": [
    "networks_list_response = get_response(\"/onchain/networks\",\n",
    "                                      use_pro, \n",
    "                                      \"\",\n",
    "                                      PRO_URL)"
   ]
  },
  {
   "cell_type": "code",
   "execution_count": 7,
   "id": "9e2e8f66-e572-4b60-b334-d5a2f91c998b",
   "metadata": {},
   "outputs": [
    {
     "data": {
      "text/plain": [
       "{'id': 'eth',\n",
       " 'type': 'network',\n",
       " 'attributes': {'name': 'Ethereum', 'coingecko_asset_platform_id': 'ethereum'}}"
      ]
     },
     "execution_count": 7,
     "metadata": {},
     "output_type": "execute_result"
    }
   ],
   "source": [
    "networks_list_response[\"data\"][0]"
   ]
  },
  {
   "cell_type": "code",
   "execution_count": 8,
   "id": "fa196e12-ee7d-4800-a971-68985a5b5a70",
   "metadata": {},
   "outputs": [],
   "source": [
    "df_net = pd.DataFrame(networks_list_response[\"data\"])"
   ]
  },
  {
   "cell_type": "markdown",
   "id": "36b3396d-8f7d-4f7e-b339-5924654c6e28",
   "metadata": {},
   "source": [
    "## Get DEX for a specific network"
   ]
  },
  {
   "cell_type": "code",
   "execution_count": 9,
   "id": "9d8e1df5-c9e8-47cd-ab27-9779dddd3705",
   "metadata": {},
   "outputs": [],
   "source": [
    "network = \"eth\"\n",
    "\n",
    "dex_list_response = get_response(f\"/onchain/networks/{network}/dexes\",\n",
    "                                 use_pro, \n",
    "                                 \"\",\n",
    "                                 PRO_URL)"
   ]
  },
  {
   "cell_type": "code",
   "execution_count": 10,
   "id": "52e20600-433f-453a-9ac0-e4df3da16c65",
   "metadata": {},
   "outputs": [],
   "source": [
    "df_dex = pd.DataFrame(dex_list_response[\"data\"])"
   ]
  },
  {
   "cell_type": "markdown",
   "id": "7f7b610e-c94c-46b7-97fa-39838e1b6c3d",
   "metadata": {},
   "source": [
    "## Create URLs"
   ]
  },
  {
   "cell_type": "code",
   "execution_count": 11,
   "id": "4c682a74-fb5f-4643-8a4e-74214dae1d0e",
   "metadata": {},
   "outputs": [],
   "source": [
    "def get_url(url_type, network, dex = \"\", pool_address = \"\"):   \n",
    "\n",
    "    url_dict = {\n",
    "        \"trending_pools\": f\"/onchain/networks/{network}/trending_pools\",\n",
    "        \"top_pools\": f\"/onchain/networks/{network}/pools\",\n",
    "        \"top_pools_dex\": f\"/onchain/networks/{network}/dexes/{dex}/pools\",\n",
    "        \"specific_pool_dex\": f\"/onchain/networks/{network}/pools/{pool_address}\"\n",
    "    }\n",
    "\n",
    "    return url_dict[url_type]"
   ]
  },
  {
   "cell_type": "markdown",
   "id": "2bbd4994-6bd5-46ef-b636-a2dd4dcb5bd3",
   "metadata": {},
   "source": [
    "## Get trending pools for a specific network"
   ]
  },
  {
   "cell_type": "code",
   "execution_count": 12,
   "id": "6856ce0d-0bc9-4c88-992e-e1f60c96a3e2",
   "metadata": {},
   "outputs": [],
   "source": [
    "def collect_response(list_response):    \n",
    "\n",
    "    response_all = []\n",
    "\n",
    "    for response in list_response[\"data\"]:\n",
    "        all_attributes = response[\"attributes\"]\n",
    "        daily_tx = all_attributes[\"transactions\"][\"h24\"]\n",
    "        rel = response[\"relationships\"]\n",
    "        \n",
    "        temp_dict = dict(\n",
    "            pair = all_attributes[\"name\"],\n",
    "            dex = rel[\"dex\"][\"data\"][\"id\"],\n",
    "            add = all_attributes[\"address\"],\n",
    "            fdv_usd = all_attributes[\"fdv_usd\"],\n",
    "            market_cap_usd = all_attributes[\"market_cap_usd\"],\n",
    "            daily_volume = all_attributes[\"volume_usd\"][\"h24\"],\n",
    "            daily_price_change = all_attributes[\"price_change_percentage\"][\"h24\"],\n",
    "            daily_buys = daily_tx[\"buys\"],\n",
    "            daily_sells = daily_tx[\"sells\"],\n",
    "            daily_buyers = daily_tx[\"buyers\"],\n",
    "            daily_sellers = daily_tx[\"sellers\"]\n",
    "        )\n",
    "        \n",
    "        response_all.append(temp_dict)\n",
    "\n",
    "    return response_all"
   ]
  },
  {
   "cell_type": "code",
   "execution_count": 13,
   "id": "0aad9616-67f0-40e1-b546-b15928559adb",
   "metadata": {},
   "outputs": [],
   "source": [
    "def get_trending_pools(network, sort_by_col):\n",
    "\n",
    "    target_url = get_url(\"trending_pools\", network)\n",
    "\n",
    "    trendpool_list_response = get_response(target_url,\n",
    "                                           use_pro, \n",
    "                                           \"\",\n",
    "                                           PRO_URL)\n",
    "    \n",
    "    trendpool_all = collect_response(trendpool_list_response)    \n",
    "\n",
    "    return pd.DataFrame(trendpool_all).sort_values(by = [f\"{sort_by_col}\"],\n",
    "                                                   ascending = False)"
   ]
  },
  {
   "cell_type": "code",
   "execution_count": 14,
   "id": "a7f47c88-0006-40ed-bbfe-514428bd057b",
   "metadata": {},
   "outputs": [],
   "source": [
    "#get_trending_pools(\"eth\", \"daily_volume\")"
   ]
  },
  {
   "cell_type": "markdown",
   "id": "fe01ec58-f7ef-400f-b0b2-e9ea9db726a2",
   "metadata": {},
   "source": [
    "## Get top pools for a specific network"
   ]
  },
  {
   "cell_type": "code",
   "execution_count": 15,
   "id": "ec7173a1-3508-4c22-9586-e7b36d8bb92a",
   "metadata": {},
   "outputs": [],
   "source": [
    "def get_top_pools_network(network, sort_by_col):\n",
    "\n",
    "    target_url = get_url(\"top_pools\", network)\n",
    "\n",
    "    toppool_list_response = get_response(target_url,\n",
    "                                         use_pro, \n",
    "                                         \"\",\n",
    "                                         PRO_URL)\n",
    "\n",
    "    toppool_all = collect_response(toppool_list_response)   \n",
    "\n",
    "    return pd.DataFrame(toppool_all).sort_values(by = [f\"{sort_by_col}\"],\n",
    "                                                 ascending = False)"
   ]
  },
  {
   "cell_type": "code",
   "execution_count": 16,
   "id": "3bd4d415-982f-4d1d-9619-7904c8b39935",
   "metadata": {},
   "outputs": [],
   "source": [
    "#get_top_pools_network(\"eth\", \"daily_volume\")"
   ]
  },
  {
   "cell_type": "markdown",
   "id": "dbb53bec-8e4a-4a89-b086-51546759dc1a",
   "metadata": {},
   "source": [
    "## Get top pools for a specific DEX"
   ]
  },
  {
   "cell_type": "code",
   "execution_count": 17,
   "id": "54f7ddc9-4c0c-459c-a396-093ca4952ec6",
   "metadata": {},
   "outputs": [],
   "source": [
    "def get_top_pools_dex(network, dex, sort_by_col):\n",
    "\n",
    "    target_url = get_url(\"top_pools_dex\", network, dex)\n",
    "\n",
    "    toppool_list_response = get_response(target_url,\n",
    "                                         use_pro, \n",
    "                                         \"\",\n",
    "                                         PRO_URL)\n",
    "\n",
    "    toppool_all = collect_response(toppool_list_response)   \n",
    "\n",
    "    return pd.DataFrame(toppool_all).sort_values(by = [f\"{sort_by_col}\"],\n",
    "                                                 ascending = False)"
   ]
  },
  {
   "cell_type": "code",
   "execution_count": 57,
   "id": "98189eaf-6f34-4a06-8da8-1e8bfc3e6140",
   "metadata": {},
   "outputs": [
    {
     "data": {
      "text/html": [
       "<div>\n",
       "<style scoped>\n",
       "    .dataframe tbody tr th:only-of-type {\n",
       "        vertical-align: middle;\n",
       "    }\n",
       "\n",
       "    .dataframe tbody tr th {\n",
       "        vertical-align: top;\n",
       "    }\n",
       "\n",
       "    .dataframe thead th {\n",
       "        text-align: right;\n",
       "    }\n",
       "</style>\n",
       "<table border=\"1\" class=\"dataframe\">\n",
       "  <thead>\n",
       "    <tr style=\"text-align: center;\">\n",
       "      <th></th>\n",
       "      <th>pair</th>\n",
       "      <th>dex</th>\n",
       "      <th>add</th>\n",
       "      <th>fdv_usd</th>\n",
       "      <th>market_cap_usd</th>\n",
       "      <th>daily_volume</th>\n",
       "      <th>daily_price_change</th>\n",
       "      <th>daily_buys</th>\n",
       "      <th>daily_sells</th>\n",
       "      <th>daily_buyers</th>\n",
       "      <th>daily_sellers</th>\n",
       "    </tr>\n",
       "  </thead>\n",
       "  <tbody>\n",
       "    <tr>\n",
       "      <th>4</th>\n",
       "      <td>APE / WETH 0.3%</td>\n",
       "      <td>uniswap_v3</td>\n",
       "      <td>0xac4b3dacb91461209ae9d41ec517c2b9cb1b7daf</td>\n",
       "      <td>1179967758</td>\n",
       "      <td>829486735.092453</td>\n",
       "      <td>4878708.06877839</td>\n",
       "      <td>50.5</td>\n",
       "      <td>2053</td>\n",
       "      <td>1438</td>\n",
       "      <td>1431</td>\n",
       "      <td>460</td>\n",
       "    </tr>\n",
       "    <tr>\n",
       "      <th>2</th>\n",
       "      <td>WETH / USDT 0.01%</td>\n",
       "      <td>uniswap_v3</td>\n",
       "      <td>0xc7bbec68d12a0d1830360f8ec58fa599ba1b0e9b</td>\n",
       "      <td>7820949618</td>\n",
       "      <td>7826958545.82488</td>\n",
       "      <td>70566320.279927</td>\n",
       "      <td>-0.21</td>\n",
       "      <td>2691</td>\n",
       "      <td>2332</td>\n",
       "      <td>1343</td>\n",
       "      <td>1609</td>\n",
       "    </tr>\n",
       "    <tr>\n",
       "      <th>6</th>\n",
       "      <td>WETH / USDC 0.05%</td>\n",
       "      <td>uniswap_v3</td>\n",
       "      <td>0x88e6a0c2ddd26feeb64f039a2c41296fcb3f5640</td>\n",
       "      <td>7820949618</td>\n",
       "      <td>7826958545.82488</td>\n",
       "      <td>33165588.561879</td>\n",
       "      <td>-0.21</td>\n",
       "      <td>1017</td>\n",
       "      <td>1487</td>\n",
       "      <td>623</td>\n",
       "      <td>1094</td>\n",
       "    </tr>\n",
       "    <tr>\n",
       "      <th>11</th>\n",
       "      <td>WETH / USDT 0.05%</td>\n",
       "      <td>uniswap_v3</td>\n",
       "      <td>0x11b815efb8f581194ae79006d24e0d814b7697f6</td>\n",
       "      <td>7820949618</td>\n",
       "      <td>7826958545.82488</td>\n",
       "      <td>7462663.25091344</td>\n",
       "      <td>-0.21</td>\n",
       "      <td>690</td>\n",
       "      <td>507</td>\n",
       "      <td>445</td>\n",
       "      <td>332</td>\n",
       "    </tr>\n",
       "    <tr>\n",
       "      <th>17</th>\n",
       "      <td>EIGEN / WETH 0.3%</td>\n",
       "      <td>uniswap_v3</td>\n",
       "      <td>0xc2c390c6cd3c4e6c2b70727d35a45e8a072f18ca</td>\n",
       "      <td>6157926702</td>\n",
       "      <td>681297768.047801</td>\n",
       "      <td>5881497.35814867</td>\n",
       "      <td>2.02</td>\n",
       "      <td>188</td>\n",
       "      <td>542</td>\n",
       "      <td>69</td>\n",
       "      <td>403</td>\n",
       "    </tr>\n",
       "    <tr>\n",
       "      <th>8</th>\n",
       "      <td>SPX / WETH 0.3%</td>\n",
       "      <td>uniswap_v3</td>\n",
       "      <td>0x7c706586679af2ba6d1a9fc2da9c6af59883fdd3</td>\n",
       "      <td>570656324</td>\n",
       "      <td>573107857.39551</td>\n",
       "      <td>5378609.45755783</td>\n",
       "      <td>-4.64</td>\n",
       "      <td>861</td>\n",
       "      <td>546</td>\n",
       "      <td>551</td>\n",
       "      <td>277</td>\n",
       "    </tr>\n",
       "    <tr>\n",
       "      <th>13</th>\n",
       "      <td>VOLT / TITANX 1%</td>\n",
       "      <td>uniswap_v3</td>\n",
       "      <td>0x3f1a36b6c946e406f4295a89ff06a5c7d62f2fe2</td>\n",
       "      <td>54873680</td>\n",
       "      <td>54131297.1177939</td>\n",
       "      <td>2967297.41280899</td>\n",
       "      <td>34.34</td>\n",
       "      <td>658</td>\n",
       "      <td>250</td>\n",
       "      <td>257</td>\n",
       "      <td>165</td>\n",
       "    </tr>\n",
       "    <tr>\n",
       "      <th>12</th>\n",
       "      <td>PUFFER / WETH 1%</td>\n",
       "      <td>uniswap_v3</td>\n",
       "      <td>0xc5c9a9ab6403cdba9722463000146c18b504f0ba</td>\n",
       "      <td>398398417</td>\n",
       "      <td>40778167.8227924</td>\n",
       "      <td>178960.620814305</td>\n",
       "      <td>6.9</td>\n",
       "      <td>76</td>\n",
       "      <td>996</td>\n",
       "      <td>17</td>\n",
       "      <td>965</td>\n",
       "    </tr>\n",
       "    <tr>\n",
       "      <th>19</th>\n",
       "      <td>KLAUS / WETH 1%</td>\n",
       "      <td>uniswap_v3</td>\n",
       "      <td>0x7d7b27d4eb74f7728c53a5a4f9d4e82a3652bbe7</td>\n",
       "      <td>38326928</td>\n",
       "      <td>37734367.0142879</td>\n",
       "      <td>977596.466255237</td>\n",
       "      <td>3.7</td>\n",
       "      <td>429</td>\n",
       "      <td>223</td>\n",
       "      <td>343</td>\n",
       "      <td>166</td>\n",
       "    </tr>\n",
       "    <tr>\n",
       "      <th>5</th>\n",
       "      <td>USDC / WETH 0.01%</td>\n",
       "      <td>uniswap_v3</td>\n",
       "      <td>0xe0554a476a092703abdb3ef35c80e0d76d32939f</td>\n",
       "      <td>25817765555</td>\n",
       "      <td>35029944897.6172</td>\n",
       "      <td>43948314.6036065</td>\n",
       "      <td>-0.16</td>\n",
       "      <td>1539</td>\n",
       "      <td>1342</td>\n",
       "      <td>1085</td>\n",
       "      <td>712</td>\n",
       "    </tr>\n",
       "    <tr>\n",
       "      <th>15</th>\n",
       "      <td>$SPEEDY / WETH 1%</td>\n",
       "      <td>uniswap_v3</td>\n",
       "      <td>0x4f07614775c82f949afdb1eeeec518c3dfa7a782</td>\n",
       "      <td>22178258</td>\n",
       "      <td>22044237.4354645</td>\n",
       "      <td>399766.24440897</td>\n",
       "      <td>156.89</td>\n",
       "      <td>524</td>\n",
       "      <td>305</td>\n",
       "      <td>342</td>\n",
       "      <td>168</td>\n",
       "    </tr>\n",
       "    <tr>\n",
       "      <th>0</th>\n",
       "      <td>🐼 / WETH 1%</td>\n",
       "      <td>uniswap_v3</td>\n",
       "      <td>0xaae1d5b18cd76160ef68bd09ff3a7ec3f27b8a44</td>\n",
       "      <td>1081887</td>\n",
       "      <td>None</td>\n",
       "      <td>2582214.20636891</td>\n",
       "      <td>305.58</td>\n",
       "      <td>2508</td>\n",
       "      <td>2745</td>\n",
       "      <td>1391</td>\n",
       "      <td>1778</td>\n",
       "    </tr>\n",
       "    <tr>\n",
       "      <th>1</th>\n",
       "      <td>Daram / WETH 1%</td>\n",
       "      <td>uniswap_v3</td>\n",
       "      <td>0x7c0d6cbe332dac916944c61956b291a4045f9bfa</td>\n",
       "      <td>16784907</td>\n",
       "      <td>None</td>\n",
       "      <td>11785508.4583806</td>\n",
       "      <td>-40.34</td>\n",
       "      <td>2884</td>\n",
       "      <td>2161</td>\n",
       "      <td>1572</td>\n",
       "      <td>1498</td>\n",
       "    </tr>\n",
       "    <tr>\n",
       "      <th>3</th>\n",
       "      <td>Frogs / WETH 1%</td>\n",
       "      <td>uniswap_v3</td>\n",
       "      <td>0x34a14b6f05bd4365f2d159fa0ed46201f2eb4665</td>\n",
       "      <td>3264776</td>\n",
       "      <td>None</td>\n",
       "      <td>4703373.73323735</td>\n",
       "      <td>-63.11</td>\n",
       "      <td>2263</td>\n",
       "      <td>2342</td>\n",
       "      <td>1345</td>\n",
       "      <td>1917</td>\n",
       "    </tr>\n",
       "    <tr>\n",
       "      <th>7</th>\n",
       "      <td>RATS / WETH 1%</td>\n",
       "      <td>uniswap_v3</td>\n",
       "      <td>0x1d8142ad6732f4c818c0bd0a72eabf765b3642f6</td>\n",
       "      <td>781789</td>\n",
       "      <td>None</td>\n",
       "      <td>1013797.844143</td>\n",
       "      <td>60.8</td>\n",
       "      <td>746</td>\n",
       "      <td>1095</td>\n",
       "      <td>400</td>\n",
       "      <td>817</td>\n",
       "    </tr>\n",
       "    <tr>\n",
       "      <th>9</th>\n",
       "      <td>TITANX / WETH 0.3%</td>\n",
       "      <td>uniswap_v3</td>\n",
       "      <td>0xb138936dc36d36bdaf156e4dce4c454e482d7e66</td>\n",
       "      <td>148915443</td>\n",
       "      <td>None</td>\n",
       "      <td>2128210.96946455</td>\n",
       "      <td>4.06</td>\n",
       "      <td>615</td>\n",
       "      <td>638</td>\n",
       "      <td>387</td>\n",
       "      <td>343</td>\n",
       "    </tr>\n",
       "    <tr>\n",
       "      <th>10</th>\n",
       "      <td>pufETH / WETH 0.05%</td>\n",
       "      <td>uniswap_v3</td>\n",
       "      <td>0xbf7d01d6cddecb72c2369d1b421967098b10def7</td>\n",
       "      <td>1043253250</td>\n",
       "      <td>None</td>\n",
       "      <td>1998199.85734982</td>\n",
       "      <td>-0.3</td>\n",
       "      <td>8</td>\n",
       "      <td>1230</td>\n",
       "      <td>7</td>\n",
       "      <td>1197</td>\n",
       "    </tr>\n",
       "    <tr>\n",
       "      <th>14</th>\n",
       "      <td>ETH69 / WETH 1%</td>\n",
       "      <td>uniswap_v3</td>\n",
       "      <td>0x72fbd310cc20d853c5f4686a5925e9a1ff9592cb</td>\n",
       "      <td>267449</td>\n",
       "      <td>None</td>\n",
       "      <td>321465.197822439</td>\n",
       "      <td>-36.94</td>\n",
       "      <td>406</td>\n",
       "      <td>486</td>\n",
       "      <td>197</td>\n",
       "      <td>394</td>\n",
       "    </tr>\n",
       "    <tr>\n",
       "      <th>16</th>\n",
       "      <td>KABOSU / WETH 1%</td>\n",
       "      <td>uniswap_v3</td>\n",
       "      <td>0x038f05e76367aa74f258cc3d77dc837e1c701363</td>\n",
       "      <td>4190985</td>\n",
       "      <td>None</td>\n",
       "      <td>675695.261083589</td>\n",
       "      <td>-19.36</td>\n",
       "      <td>406</td>\n",
       "      <td>343</td>\n",
       "      <td>295</td>\n",
       "      <td>250</td>\n",
       "    </tr>\n",
       "    <tr>\n",
       "      <th>18</th>\n",
       "      <td>DRAGONX / TITANX 1%</td>\n",
       "      <td>uniswap_v3</td>\n",
       "      <td>0x25215d9ba4403b3da77ce50606b54577a71b7895</td>\n",
       "      <td>103000689</td>\n",
       "      <td>None</td>\n",
       "      <td>2820591.77974442</td>\n",
       "      <td>18.82</td>\n",
       "      <td>444</td>\n",
       "      <td>256</td>\n",
       "      <td>139</td>\n",
       "      <td>161</td>\n",
       "    </tr>\n",
       "  </tbody>\n",
       "</table>\n",
       "</div>"
      ],
      "text/plain": [
       "           pair             dex      \\\n",
       "4       APE / WETH 0.3%  uniswap_v3   \n",
       "2     WETH / USDT 0.01%  uniswap_v3   \n",
       "6     WETH / USDC 0.05%  uniswap_v3   \n",
       "11    WETH / USDT 0.05%  uniswap_v3   \n",
       "17    EIGEN / WETH 0.3%  uniswap_v3   \n",
       "8       SPX / WETH 0.3%  uniswap_v3   \n",
       "13     VOLT / TITANX 1%  uniswap_v3   \n",
       "12     PUFFER / WETH 1%  uniswap_v3   \n",
       "19      KLAUS / WETH 1%  uniswap_v3   \n",
       "5     USDC / WETH 0.01%  uniswap_v3   \n",
       "15    $SPEEDY / WETH 1%  uniswap_v3   \n",
       "0           🐼 / WETH 1%  uniswap_v3   \n",
       "1       Daram / WETH 1%  uniswap_v3   \n",
       "3       Frogs / WETH 1%  uniswap_v3   \n",
       "7        RATS / WETH 1%  uniswap_v3   \n",
       "9    TITANX / WETH 0.3%  uniswap_v3   \n",
       "10  pufETH / WETH 0.05%  uniswap_v3   \n",
       "14      ETH69 / WETH 1%  uniswap_v3   \n",
       "16     KABOSU / WETH 1%  uniswap_v3   \n",
       "18  DRAGONX / TITANX 1%  uniswap_v3   \n",
       "\n",
       "                       add                       fdv_usd      market_cap_usd   \\\n",
       "4   0xac4b3dacb91461209ae9d41ec517c2b9cb1b7daf   1179967758  829486735.092453   \n",
       "2   0xc7bbec68d12a0d1830360f8ec58fa599ba1b0e9b   7820949618  7826958545.82488   \n",
       "6   0x88e6a0c2ddd26feeb64f039a2c41296fcb3f5640   7820949618  7826958545.82488   \n",
       "11  0x11b815efb8f581194ae79006d24e0d814b7697f6   7820949618  7826958545.82488   \n",
       "17  0xc2c390c6cd3c4e6c2b70727d35a45e8a072f18ca   6157926702  681297768.047801   \n",
       "8   0x7c706586679af2ba6d1a9fc2da9c6af59883fdd3    570656324   573107857.39551   \n",
       "13  0x3f1a36b6c946e406f4295a89ff06a5c7d62f2fe2     54873680  54131297.1177939   \n",
       "12  0xc5c9a9ab6403cdba9722463000146c18b504f0ba    398398417  40778167.8227924   \n",
       "19  0x7d7b27d4eb74f7728c53a5a4f9d4e82a3652bbe7     38326928  37734367.0142879   \n",
       "5   0xe0554a476a092703abdb3ef35c80e0d76d32939f  25817765555  35029944897.6172   \n",
       "15  0x4f07614775c82f949afdb1eeeec518c3dfa7a782     22178258  22044237.4354645   \n",
       "0   0xaae1d5b18cd76160ef68bd09ff3a7ec3f27b8a44      1081887              None   \n",
       "1   0x7c0d6cbe332dac916944c61956b291a4045f9bfa     16784907              None   \n",
       "3   0x34a14b6f05bd4365f2d159fa0ed46201f2eb4665      3264776              None   \n",
       "7   0x1d8142ad6732f4c818c0bd0a72eabf765b3642f6       781789              None   \n",
       "9   0xb138936dc36d36bdaf156e4dce4c454e482d7e66    148915443              None   \n",
       "10  0xbf7d01d6cddecb72c2369d1b421967098b10def7   1043253250              None   \n",
       "14  0x72fbd310cc20d853c5f4686a5925e9a1ff9592cb       267449              None   \n",
       "16  0x038f05e76367aa74f258cc3d77dc837e1c701363      4190985              None   \n",
       "18  0x25215d9ba4403b3da77ce50606b54577a71b7895    103000689              None   \n",
       "\n",
       "      daily_volume   daily_price_change  daily_buys  daily_sells  \\\n",
       "4   4878708.06877839         50.5           2053        1438       \n",
       "2    70566320.279927        -0.21           2691        2332       \n",
       "6    33165588.561879        -0.21           1017        1487       \n",
       "11  7462663.25091344        -0.21            690         507       \n",
       "17  5881497.35814867         2.02            188         542       \n",
       "8   5378609.45755783        -4.64            861         546       \n",
       "13  2967297.41280899        34.34            658         250       \n",
       "12  178960.620814305          6.9             76         996       \n",
       "19  977596.466255237          3.7            429         223       \n",
       "5   43948314.6036065        -0.16           1539        1342       \n",
       "15   399766.24440897       156.89            524         305       \n",
       "0   2582214.20636891       305.58           2508        2745       \n",
       "1   11785508.4583806       -40.34           2884        2161       \n",
       "3   4703373.73323735       -63.11           2263        2342       \n",
       "7     1013797.844143         60.8            746        1095       \n",
       "9   2128210.96946455         4.06            615         638       \n",
       "10  1998199.85734982         -0.3              8        1230       \n",
       "14  321465.197822439       -36.94            406         486       \n",
       "16  675695.261083589       -19.36            406         343       \n",
       "18  2820591.77974442        18.82            444         256       \n",
       "\n",
       "    daily_buyers  daily_sellers  \n",
       "4       1431           460       \n",
       "2       1343          1609       \n",
       "6        623          1094       \n",
       "11       445           332       \n",
       "17        69           403       \n",
       "8        551           277       \n",
       "13       257           165       \n",
       "12        17           965       \n",
       "19       343           166       \n",
       "5       1085           712       \n",
       "15       342           168       \n",
       "0       1391          1778       \n",
       "1       1572          1498       \n",
       "3       1345          1917       \n",
       "7        400           817       \n",
       "9        387           343       \n",
       "10         7          1197       \n",
       "14       197           394       \n",
       "16       295           250       \n",
       "18       139           161       "
      ]
     },
     "execution_count": 57,
     "metadata": {},
     "output_type": "execute_result"
    }
   ],
   "source": [
    "get_top_pools_dex(\"eth\", \"uniswap_v3\", \"market_cap_usd\")"
   ]
  },
  {
   "cell_type": "markdown",
   "id": "c4eeb5cf-7689-4e7b-88e8-6ee341385332",
   "metadata": {},
   "source": [
    "## Get data for a specific pool address"
   ]
  },
  {
   "cell_type": "code",
   "execution_count": 19,
   "id": "73a599a6-605b-47ac-8516-b160fb249d34",
   "metadata": {},
   "outputs": [],
   "source": [
    "def collect_pool_response(list_response):    \n",
    "\n",
    "    response = list_response[\"data\"]\n",
    "    all_attributes = response[\"attributes\"]\n",
    "    daily_tx = all_attributes[\"transactions\"][\"h24\"]\n",
    "    rel = response[\"relationships\"]\n",
    "        \n",
    "    response_dict = dict(\n",
    "        pair = all_attributes[\"name\"],\n",
    "        dex = rel[\"dex\"][\"data\"][\"id\"],\n",
    "        add = all_attributes[\"address\"],\n",
    "        fdv_usd = all_attributes[\"fdv_usd\"],\n",
    "        market_cap_usd = all_attributes[\"market_cap_usd\"],\n",
    "        daily_volume = all_attributes[\"volume_usd\"][\"h24\"],\n",
    "        daily_price_change = all_attributes[\"price_change_percentage\"][\"h24\"],\n",
    "        daily_buys = daily_tx[\"buys\"],\n",
    "        daily_sells = daily_tx[\"sells\"],\n",
    "        daily_buyers = daily_tx[\"buyers\"],\n",
    "        daily_sellers = daily_tx[\"sellers\"]\n",
    "    )\n",
    "\n",
    "    return response_dict"
   ]
  },
  {
   "cell_type": "code",
   "execution_count": 20,
   "id": "2fe939b5-8fba-47ae-823e-7f16044643a4",
   "metadata": {},
   "outputs": [],
   "source": [
    "def get_pool_data(network, dex, pool_address):\n",
    "\n",
    "    target_url = get_url(\"specific_pool_dex\", network, dex, pool_address)\n",
    "\n",
    "    pool_list_response = get_response(target_url,\n",
    "                                      use_pro, \n",
    "                                      \"\",\n",
    "                                      PRO_URL)\n",
    "\n",
    "    pool_all = collect_pool_response(pool_list_response)   \n",
    "\n",
    "    return pool_all"
   ]
  },
  {
   "cell_type": "code",
   "execution_count": 58,
   "id": "d47b3b82-623b-4b38-968f-677f0ce44232",
   "metadata": {},
   "outputs": [
    {
     "data": {
      "text/plain": [
       "{'pair': 'WETH / USDT 0.01%',\n",
       " 'dex': 'uniswap_v3',\n",
       " 'add': '0xc7bbec68d12a0d1830360f8ec58fa599ba1b0e9b',\n",
       " 'fdv_usd': '7820954031',\n",
       " 'market_cap_usd': '7828631363.3987',\n",
       " 'daily_volume': '70780141.7155127',\n",
       " 'daily_price_change': '-0.21',\n",
       " 'daily_buys': 2691,\n",
       " 'daily_sells': 2334,\n",
       " 'daily_buyers': 1347,\n",
       " 'daily_sellers': 1612}"
      ]
     },
     "execution_count": 58,
     "metadata": {},
     "output_type": "execute_result"
    }
   ],
   "source": [
    "get_pool_data(\"eth\", \"uniswap_v3\", \"0xc7bbec68d12a0d1830360f8ec58fa599ba1b0e9b\")"
   ]
  },
  {
   "cell_type": "markdown",
   "id": "be70af99-e67f-46f9-937f-4faab29fbbdf",
   "metadata": {},
   "source": [
    "## Uniswap class"
   ]
  },
  {
   "cell_type": "code",
   "execution_count": 31,
   "id": "a64707b5-fa48-4bab-8c49-5475b46e71c0",
   "metadata": {},
   "outputs": [],
   "source": [
    "from uniswap import Uniswap"
   ]
  },
  {
   "cell_type": "code",
   "execution_count": 53,
   "id": "513e9e10-9b3e-4fa8-ab8d-8f71d74ea7d4",
   "metadata": {},
   "outputs": [],
   "source": [
    "# Get wallet private key\n",
    "def get_private_key():\n",
    "    f = open(\"/home/vikas/Documents/MetaMask_private_key.json\")\n",
    "    key_dict = json.load(f)\n",
    "    return key_dict[\"private_key\"]"
   ]
  },
  {
   "cell_type": "code",
   "execution_count": 54,
   "id": "15ee3276-0fe8-43d4-b877-4c079e475499",
   "metadata": {},
   "outputs": [],
   "source": [
    "# Use None for address and private_key when not doing a transaction\n",
    "\n",
    "address = \"0xAf418C54351BA8a0Aa15Ba4A5C99C46C122B3DBC\"      \n",
    "private_key = get_private_key()    \n",
    "version = 3\n",
    "provider = \"https://rpc.ankr.com/eth\"\n",
    "\n",
    "uniswap = Uniswap(address = address,\n",
    "                  private_key = private_key,\n",
    "                  version = version,\n",
    "                  provider = provider)"
   ]
  },
  {
   "cell_type": "code",
   "execution_count": 64,
   "id": "2dfca6fb-5e4c-4e01-ba3e-7f3f329c382c",
   "metadata": {},
   "outputs": [],
   "source": [
    "# Token contract address\n",
    "# https://support.uniswap.org/hc/en-us/articles/26757826138637-What-is-a-token-contract-address\n",
    "\n",
    "eth = \"0x0000000000000000000000000000000000000000\"\n",
    "bat = \"0x0D8775F648430679A709E98d2b0Cb6250d2887EF\"\n",
    "dai = \"0x6B175474E89094C44Da98b954EedeAC495271d0F\"\n",
    "usdt = \"0xdAC17F958D2ee523a2206206994597C13D831ec7\""
   ]
  },
  {
   "cell_type": "code",
   "execution_count": 68,
   "id": "8da37d2b-160d-4072-aceb-6f34564d1295",
   "metadata": {},
   "outputs": [],
   "source": [
    "# Another wallet address\n",
    "mm_add_2 = \"0x758A71BDbb79a9FFca78C2eB82459985f6cffAFC\""
   ]
  },
  {
   "cell_type": "markdown",
   "id": "e050d765-4fff-47c6-af1f-bce2cde0527b",
   "metadata": {},
   "source": [
    "#### Get swap prices"
   ]
  },
  {
   "cell_type": "code",
   "execution_count": 71,
   "id": "ecaa0998-bc27-4ba8-8dff-5d96fe819507",
   "metadata": {},
   "outputs": [
    {
     "data": {
      "text/plain": [
       "0.001135217163866888"
      ]
     },
     "execution_count": 71,
     "metadata": {},
     "output_type": "execute_result"
    }
   ],
   "source": [
    "# Returns the amount of ETH you need to pay (in wei) to get X amount of USDT\n",
    "\n",
    "uniswap.get_price_output(eth, usdt, 3 * 10**6, fee = 100) / (10**18)"
   ]
  },
  {
   "cell_type": "markdown",
   "id": "195f7313-2b1d-43cc-b67c-333b843a1110",
   "metadata": {},
   "source": [
    "#### Check balance"
   ]
  },
  {
   "cell_type": "code",
   "execution_count": 74,
   "id": "39f538c1-9006-4bff-8c7d-f519bc887a05",
   "metadata": {},
   "outputs": [
    {
     "data": {
      "text/plain": [
       "0.004425315035114578"
      ]
     },
     "execution_count": 74,
     "metadata": {},
     "output_type": "execute_result"
    }
   ],
   "source": [
    "uniswap.get_eth_balance() / 10**18"
   ]
  },
  {
   "cell_type": "code",
   "execution_count": 76,
   "id": "0306d406-2cb9-4e03-98ec-ed2a3eea7eb8",
   "metadata": {},
   "outputs": [
    {
     "data": {
      "text/plain": [
       "3.0"
      ]
     },
     "execution_count": 76,
     "metadata": {},
     "output_type": "execute_result"
    }
   ],
   "source": [
    "uniswap.get_token_balance(usdt) / 10**6"
   ]
  },
  {
   "cell_type": "markdown",
   "id": "7252a74e-7997-4396-bc73-fcb1273a5691",
   "metadata": {},
   "source": [
    "#### Make trade"
   ]
  },
  {
   "cell_type": "code",
   "execution_count": 73,
   "id": "228fe51a-3eb8-4109-80a9-f87bb42d49b0",
   "metadata": {},
   "outputs": [],
   "source": [
    "#uniswap.make_trade_output(eth, usdt, 3 * 10**6, fee = 100)"
   ]
  },
  {
   "cell_type": "code",
   "execution_count": null,
   "id": "e349093d-eec1-4541-af52-78bf649dc406",
   "metadata": {},
   "outputs": [],
   "source": []
  }
 ],
 "metadata": {
  "kernelspec": {
   "display_name": "Python 3 (ipykernel)",
   "language": "python",
   "name": "python3"
  },
  "language_info": {
   "codemirror_mode": {
    "name": "ipython",
    "version": 3
   },
   "file_extension": ".py",
   "mimetype": "text/x-python",
   "name": "python",
   "nbconvert_exporter": "python",
   "pygments_lexer": "ipython3",
   "version": "3.10.12"
  }
 },
 "nbformat": 4,
 "nbformat_minor": 5
}
