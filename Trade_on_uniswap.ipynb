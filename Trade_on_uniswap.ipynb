{
 "cells": [
  {
   "cell_type": "code",
   "execution_count": 1,
   "id": "a1712327-1747-44f7-804b-c9887b297fc1",
   "metadata": {},
   "outputs": [],
   "source": [
    "import requests as rq\n",
    "import json\n",
    "import pandas as pd\n",
    "pd.set_option('display.precision', 4,\n",
    "              'display.colheader_justify', 'center')\n",
    "import numpy as np\n",
    "import warnings\n",
    "import pytz\n",
    "import datetime\n",
    "import time\n",
    "from IPython.display import clear_output"
   ]
  },
  {
   "cell_type": "code",
   "execution_count": 2,
   "id": "4d9245f7-f0c1-434b-8def-2076733a8940",
   "metadata": {},
   "outputs": [],
   "source": [
    "# Get pro API key\n",
    "def get_pro_key():\n",
    "    f = open(\"/home/vikas/Documents/CG_pro_key.json\")\n",
    "    key_dict = json.load(f)\n",
    "    return key_dict[\"key\"]"
   ]
  },
  {
   "cell_type": "code",
   "execution_count": 3,
   "id": "79a3a395-82fd-4ce3-9627-726d12ebc0b1",
   "metadata": {},
   "outputs": [],
   "source": [
    "use_pro = {\n",
    "         \"accept\": \"application/json\",\n",
    "         \"x-cg-pro-api-key\" : get_pro_key()\n",
    "}"
   ]
  },
  {
   "cell_type": "code",
   "execution_count": 4,
   "id": "9cdaa705-b087-4b5b-ac9e-9344bc250976",
   "metadata": {},
   "outputs": [],
   "source": [
    "def get_response(endpoint, headers, params, URL):\n",
    "    url = \"\".join((URL, endpoint))\n",
    "    response = rq.get(url, headers = headers, params = params)\n",
    "    if response.status_code == 200:\n",
    "        data = response.json()\n",
    "        return data\n",
    "    else:\n",
    "        print(f\"Failed to fetch data, check status code {response.status_code}\")"
   ]
  },
  {
   "cell_type": "code",
   "execution_count": 5,
   "id": "06c766e5-f9b4-4dbc-9f56-f852f77f97a1",
   "metadata": {},
   "outputs": [],
   "source": [
    "PUB_URL = \"https://api.coingecko.com/api/v3\"\n",
    "PRO_URL = \"https://pro-api.coingecko.com/api/v3\""
   ]
  },
  {
   "cell_type": "markdown",
   "id": "ab52c667-ba03-4445-aaba-32de78c33b3b",
   "metadata": {},
   "source": [
    "## Get list of networks"
   ]
  },
  {
   "cell_type": "code",
   "execution_count": 6,
   "id": "0e11e04a-36cf-4fc7-9fc8-9b33974e6c94",
   "metadata": {},
   "outputs": [],
   "source": [
    "networks_list_response = get_response(\"/onchain/networks\",\n",
    "                                      use_pro, \n",
    "                                      \"\",\n",
    "                                      PRO_URL)"
   ]
  },
  {
   "cell_type": "code",
   "execution_count": 7,
   "id": "9e2e8f66-e572-4b60-b334-d5a2f91c998b",
   "metadata": {},
   "outputs": [
    {
     "data": {
      "text/plain": [
       "{'id': 'eth',\n",
       " 'type': 'network',\n",
       " 'attributes': {'name': 'Ethereum', 'coingecko_asset_platform_id': 'ethereum'}}"
      ]
     },
     "execution_count": 7,
     "metadata": {},
     "output_type": "execute_result"
    }
   ],
   "source": [
    "networks_list_response[\"data\"][0]"
   ]
  },
  {
   "cell_type": "code",
   "execution_count": 81,
   "id": "fa196e12-ee7d-4800-a971-68985a5b5a70",
   "metadata": {},
   "outputs": [],
   "source": [
    "df_net = pd.DataFrame(networks_list_response[\"data\"])\n",
    "#df_net"
   ]
  },
  {
   "cell_type": "markdown",
   "id": "36b3396d-8f7d-4f7e-b339-5924654c6e28",
   "metadata": {},
   "source": [
    "## Get DEX for a specific network"
   ]
  },
  {
   "cell_type": "code",
   "execution_count": 9,
   "id": "9d8e1df5-c9e8-47cd-ab27-9779dddd3705",
   "metadata": {},
   "outputs": [],
   "source": [
    "network = \"eth\"\n",
    "\n",
    "dex_list_response = get_response(f\"/onchain/networks/{network}/dexes\",\n",
    "                                 use_pro, \n",
    "                                 \"\",\n",
    "                                 PRO_URL)"
   ]
  },
  {
   "cell_type": "code",
   "execution_count": 10,
   "id": "52e20600-433f-453a-9ac0-e4df3da16c65",
   "metadata": {},
   "outputs": [],
   "source": [
    "df_dex = pd.DataFrame(dex_list_response[\"data\"])"
   ]
  },
  {
   "cell_type": "markdown",
   "id": "7f7b610e-c94c-46b7-97fa-39838e1b6c3d",
   "metadata": {},
   "source": [
    "## Create URLs"
   ]
  },
  {
   "cell_type": "code",
   "execution_count": 79,
   "id": "4c682a74-fb5f-4643-8a4e-74214dae1d0e",
   "metadata": {},
   "outputs": [],
   "source": [
    "def get_url(url_type,\n",
    "            network,\n",
    "            dex = \"\",\n",
    "            pool_address = \"\",\n",
    "            token_address = \"\"):   \n",
    "\n",
    "    url_dict = {\n",
    "        \"trending_pools\": f\"/onchain/networks/{network}/trending_pools\",\n",
    "        \"top_pools\": f\"/onchain/networks/{network}/pools\",\n",
    "        \"top_pools_dex\": f\"/onchain/networks/{network}/dexes/{dex}/pools\",\n",
    "        \"specific_pool_dex\": f\"/onchain/networks/{network}/pools/{pool_address}\",\n",
    "        \"top_pools_add\": f\"/onchain/networks/{network}/tokens/{token_address}/pools\"\n",
    "    }\n",
    "\n",
    "    return url_dict[url_type]"
   ]
  },
  {
   "cell_type": "markdown",
   "id": "2bbd4994-6bd5-46ef-b636-a2dd4dcb5bd3",
   "metadata": {},
   "source": [
    "## Get trending pools for a specific network"
   ]
  },
  {
   "cell_type": "code",
   "execution_count": 12,
   "id": "6856ce0d-0bc9-4c88-992e-e1f60c96a3e2",
   "metadata": {},
   "outputs": [],
   "source": [
    "def collect_response(list_response):    \n",
    "\n",
    "    response_all = []\n",
    "\n",
    "    for response in list_response[\"data\"]:\n",
    "        all_attributes = response[\"attributes\"]\n",
    "        daily_tx = all_attributes[\"transactions\"][\"h24\"]\n",
    "        rel = response[\"relationships\"]\n",
    "        \n",
    "        temp_dict = dict(\n",
    "            pair = all_attributes[\"name\"],\n",
    "            dex = rel[\"dex\"][\"data\"][\"id\"],\n",
    "            add = all_attributes[\"address\"],\n",
    "            fdv_usd = all_attributes[\"fdv_usd\"],\n",
    "            market_cap_usd = all_attributes[\"market_cap_usd\"],\n",
    "            daily_volume = all_attributes[\"volume_usd\"][\"h24\"],\n",
    "            daily_price_change = all_attributes[\"price_change_percentage\"][\"h24\"],\n",
    "            daily_buys = daily_tx[\"buys\"],\n",
    "            daily_sells = daily_tx[\"sells\"],\n",
    "            daily_buyers = daily_tx[\"buyers\"],\n",
    "            daily_sellers = daily_tx[\"sellers\"]\n",
    "        )\n",
    "        \n",
    "        response_all.append(temp_dict)\n",
    "\n",
    "    return response_all"
   ]
  },
  {
   "cell_type": "code",
   "execution_count": 13,
   "id": "0aad9616-67f0-40e1-b546-b15928559adb",
   "metadata": {},
   "outputs": [],
   "source": [
    "def get_trending_pools(network, sort_by_col):\n",
    "\n",
    "    target_url = get_url(\"trending_pools\", network)\n",
    "\n",
    "    trendpool_list_response = get_response(target_url,\n",
    "                                           use_pro, \n",
    "                                           \"\",\n",
    "                                           PRO_URL)\n",
    "    \n",
    "    trendpool_all = collect_response(trendpool_list_response)    \n",
    "\n",
    "    return pd.DataFrame(trendpool_all).sort_values(by = [f\"{sort_by_col}\"],\n",
    "                                                   ascending = False)"
   ]
  },
  {
   "cell_type": "code",
   "execution_count": 14,
   "id": "a7f47c88-0006-40ed-bbfe-514428bd057b",
   "metadata": {},
   "outputs": [],
   "source": [
    "#get_trending_pools(\"eth\", \"daily_volume\")"
   ]
  },
  {
   "cell_type": "markdown",
   "id": "fe01ec58-f7ef-400f-b0b2-e9ea9db726a2",
   "metadata": {},
   "source": [
    "## Get top pools for a specific network"
   ]
  },
  {
   "cell_type": "code",
   "execution_count": 15,
   "id": "ec7173a1-3508-4c22-9586-e7b36d8bb92a",
   "metadata": {},
   "outputs": [],
   "source": [
    "def get_top_pools_network(network, sort_by_col):\n",
    "\n",
    "    target_url = get_url(\"top_pools\", network)\n",
    "\n",
    "    toppool_list_response = get_response(target_url,\n",
    "                                         use_pro, \n",
    "                                         \"\",\n",
    "                                         PRO_URL)\n",
    "\n",
    "    toppool_all = collect_response(toppool_list_response)   \n",
    "\n",
    "    return pd.DataFrame(toppool_all).sort_values(by = [f\"{sort_by_col}\"],\n",
    "                                                 ascending = False)"
   ]
  },
  {
   "cell_type": "code",
   "execution_count": 16,
   "id": "3bd4d415-982f-4d1d-9619-7904c8b39935",
   "metadata": {},
   "outputs": [],
   "source": [
    "#get_top_pools_network(\"eth\", \"daily_volume\")"
   ]
  },
  {
   "cell_type": "markdown",
   "id": "dbb53bec-8e4a-4a89-b086-51546759dc1a",
   "metadata": {},
   "source": [
    "## Get top pools for a specific DEX"
   ]
  },
  {
   "cell_type": "code",
   "execution_count": 17,
   "id": "54f7ddc9-4c0c-459c-a396-093ca4952ec6",
   "metadata": {},
   "outputs": [],
   "source": [
    "def get_top_pools_dex(network, dex, sort_by_col):\n",
    "\n",
    "    target_url = get_url(\"top_pools_dex\", network, dex)\n",
    "\n",
    "    toppool_list_response = get_response(target_url,\n",
    "                                         use_pro, \n",
    "                                         \"\",\n",
    "                                         PRO_URL)\n",
    "\n",
    "    toppool_all = collect_response(toppool_list_response)   \n",
    "\n",
    "    return pd.DataFrame(toppool_all).sort_values(by = [f\"{sort_by_col}\"],\n",
    "                                                 ascending = False)"
   ]
  },
  {
   "cell_type": "code",
   "execution_count": 80,
   "id": "98189eaf-6f34-4a06-8da8-1e8bfc3e6140",
   "metadata": {},
   "outputs": [],
   "source": [
    "#get_top_pools_dex(\"eth\", \"uniswap_v3\", \"market_cap_usd\")"
   ]
  },
  {
   "cell_type": "markdown",
   "id": "c4eeb5cf-7689-4e7b-88e8-6ee341385332",
   "metadata": {},
   "source": [
    "## Get data for a specific pool address"
   ]
  },
  {
   "cell_type": "code",
   "execution_count": 19,
   "id": "73a599a6-605b-47ac-8516-b160fb249d34",
   "metadata": {},
   "outputs": [],
   "source": [
    "def collect_pool_response(list_response):    \n",
    "\n",
    "    response = list_response[\"data\"]\n",
    "    all_attributes = response[\"attributes\"]\n",
    "    daily_tx = all_attributes[\"transactions\"][\"h24\"]\n",
    "    rel = response[\"relationships\"]\n",
    "        \n",
    "    response_dict = dict(\n",
    "        pair = all_attributes[\"name\"],\n",
    "        dex = rel[\"dex\"][\"data\"][\"id\"],\n",
    "        add = all_attributes[\"address\"],\n",
    "        fdv_usd = all_attributes[\"fdv_usd\"],\n",
    "        market_cap_usd = all_attributes[\"market_cap_usd\"],\n",
    "        daily_volume = all_attributes[\"volume_usd\"][\"h24\"],\n",
    "        daily_price_change = all_attributes[\"price_change_percentage\"][\"h24\"],\n",
    "        daily_buys = daily_tx[\"buys\"],\n",
    "        daily_sells = daily_tx[\"sells\"],\n",
    "        daily_buyers = daily_tx[\"buyers\"],\n",
    "        daily_sellers = daily_tx[\"sellers\"]\n",
    "    )\n",
    "\n",
    "    return response_dict"
   ]
  },
  {
   "cell_type": "code",
   "execution_count": 20,
   "id": "2fe939b5-8fba-47ae-823e-7f16044643a4",
   "metadata": {},
   "outputs": [],
   "source": [
    "def get_pool_data(network, dex, pool_address):\n",
    "\n",
    "    target_url = get_url(\"specific_pool_dex\", network, dex, pool_address)\n",
    "\n",
    "    pool_list_response = get_response(target_url,\n",
    "                                      use_pro, \n",
    "                                      \"\",\n",
    "                                      PRO_URL)\n",
    "\n",
    "    pool_all = collect_pool_response(pool_list_response)   \n",
    "\n",
    "    return pool_all"
   ]
  },
  {
   "cell_type": "code",
   "execution_count": 58,
   "id": "d47b3b82-623b-4b38-968f-677f0ce44232",
   "metadata": {},
   "outputs": [
    {
     "data": {
      "text/plain": [
       "{'pair': 'WETH / USDT 0.01%',\n",
       " 'dex': 'uniswap_v3',\n",
       " 'add': '0xc7bbec68d12a0d1830360f8ec58fa599ba1b0e9b',\n",
       " 'fdv_usd': '7820954031',\n",
       " 'market_cap_usd': '7828631363.3987',\n",
       " 'daily_volume': '70780141.7155127',\n",
       " 'daily_price_change': '-0.21',\n",
       " 'daily_buys': 2691,\n",
       " 'daily_sells': 2334,\n",
       " 'daily_buyers': 1347,\n",
       " 'daily_sellers': 1612}"
      ]
     },
     "execution_count": 58,
     "metadata": {},
     "output_type": "execute_result"
    }
   ],
   "source": [
    "get_pool_data(\"eth\", \"uniswap_v3\", \"0xc7bbec68d12a0d1830360f8ec58fa599ba1b0e9b\")"
   ]
  },
  {
   "cell_type": "markdown",
   "id": "fe2a2b7b-d63e-41fe-b5ca-562c2f486643",
   "metadata": {},
   "source": [
    "## Get data for a specific token address"
   ]
  },
  {
   "cell_type": "code",
   "execution_count": 114,
   "id": "50074686-5f72-4c5a-89e4-1c890b97b347",
   "metadata": {},
   "outputs": [],
   "source": [
    "def collect_response_token(list_response):    \n",
    "\n",
    "    response_all = []\n",
    "\n",
    "    for response in list_response[\"data\"]:\n",
    "        all_attributes = response[\"attributes\"]\n",
    "        daily_tx = all_attributes[\"transactions\"][\"h24\"]\n",
    "        rel = response[\"relationships\"]\n",
    "        \n",
    "        temp_dict = dict(\n",
    "            pair = all_attributes[\"name\"],\n",
    "            dex = rel[\"dex\"][\"data\"][\"id\"],\n",
    "            add = all_attributes[\"address\"],\n",
    "            base_token_price_quote_token = all_attributes[\"base_token_price_quote_token\"],\n",
    "            fdv_usd = all_attributes[\"fdv_usd\"],\n",
    "            market_cap_usd = all_attributes[\"market_cap_usd\"],\n",
    "            daily_volume = all_attributes[\"volume_usd\"][\"h24\"],\n",
    "            daily_price_change = all_attributes[\"price_change_percentage\"][\"h24\"],\n",
    "            daily_buys = daily_tx[\"buys\"],\n",
    "            daily_sells = daily_tx[\"sells\"],\n",
    "            daily_buyers = daily_tx[\"buyers\"],\n",
    "            daily_sellers = daily_tx[\"sellers\"]\n",
    "        )\n",
    "        \n",
    "        response_all.append(temp_dict)\n",
    "\n",
    "    return response_all"
   ]
  },
  {
   "cell_type": "code",
   "execution_count": 115,
   "id": "4b00d840-86fc-4872-ad9b-0824abaf8b76",
   "metadata": {},
   "outputs": [],
   "source": [
    "def get_top_pools_token(network,\n",
    "                        token_address,\n",
    "                        sort_by_col):\n",
    "\n",
    "    target_url = get_url(\"top_pools_add\",\n",
    "                         network,\n",
    "                         \"\",\n",
    "                         \"\",\n",
    "                         token_address)\n",
    "\n",
    "    toppool_list_response = get_response(target_url,\n",
    "                                         use_pro, \n",
    "                                         \"\",\n",
    "                                         PRO_URL)\n",
    "    \n",
    "    toppool_all = collect_response_token(toppool_list_response)    \n",
    "\n",
    "    return pd.DataFrame(toppool_all).sort_values(by = [f\"{sort_by_col}\"],\n",
    "                                                 ascending = False)"
   ]
  },
  {
   "cell_type": "code",
   "execution_count": 116,
   "id": "af4cd31e-4c51-416c-83a9-89c978fc503e",
   "metadata": {},
   "outputs": [],
   "source": [
    "# target_url = get_url(\"top_pools_add\",\n",
    "#                          \"eth\",\n",
    "#                          \"\",\n",
    "#                          \"\",\n",
    "#                          usdt)\n",
    "\n",
    "# toppool_list_response = get_response(target_url,\n",
    "#                                      use_pro, \n",
    "#                                      \"\",\n",
    "#                                      PRO_URL)"
   ]
  },
  {
   "cell_type": "code",
   "execution_count": 117,
   "id": "d609e9d9-f023-432e-90f5-18f7c291ae27",
   "metadata": {},
   "outputs": [],
   "source": [
    "df_token = get_top_pools_token(\"eth\", usdt, \"fdv_usd\")"
   ]
  },
  {
   "cell_type": "code",
   "execution_count": 118,
   "id": "d14197b7-5ebd-48d4-b3e2-7f0f415f26a7",
   "metadata": {},
   "outputs": [
    {
     "data": {
      "text/html": [
       "<div>\n",
       "<style scoped>\n",
       "    .dataframe tbody tr th:only-of-type {\n",
       "        vertical-align: middle;\n",
       "    }\n",
       "\n",
       "    .dataframe tbody tr th {\n",
       "        vertical-align: top;\n",
       "    }\n",
       "\n",
       "    .dataframe thead th {\n",
       "        text-align: right;\n",
       "    }\n",
       "</style>\n",
       "<table border=\"1\" class=\"dataframe\">\n",
       "  <thead>\n",
       "    <tr style=\"text-align: center;\">\n",
       "      <th></th>\n",
       "      <th>pair</th>\n",
       "      <th>dex</th>\n",
       "      <th>add</th>\n",
       "      <th>base_token_price_quote_token</th>\n",
       "      <th>fdv_usd</th>\n",
       "      <th>market_cap_usd</th>\n",
       "      <th>daily_volume</th>\n",
       "      <th>daily_price_change</th>\n",
       "      <th>daily_buys</th>\n",
       "      <th>daily_sells</th>\n",
       "      <th>daily_buyers</th>\n",
       "      <th>daily_sellers</th>\n",
       "    </tr>\n",
       "  </thead>\n",
       "  <tbody>\n",
       "    <tr>\n",
       "      <th>13</th>\n",
       "      <td>USDT / WBTC / WETH</td>\n",
       "      <td>curve</td>\n",
       "      <td>0xd51a44d3fae010294c616388b506acda1bfaae46</td>\n",
       "      <td>0.00001490</td>\n",
       "      <td>54577903669</td>\n",
       "      <td>119781319934.988</td>\n",
       "      <td>591133.071068851</td>\n",
       "      <td>-0.19</td>\n",
       "      <td>49</td>\n",
       "      <td>45</td>\n",
       "      <td>NaN</td>\n",
       "      <td>NaN</td>\n",
       "    </tr>\n",
       "    <tr>\n",
       "      <th>9</th>\n",
       "      <td>USDT / WBTC / WETH</td>\n",
       "      <td>curve</td>\n",
       "      <td>0xf5f5b97624542d72a9e06f04804bf81baa15e2b4</td>\n",
       "      <td>0.00001494</td>\n",
       "      <td>54497019996</td>\n",
       "      <td>119781319934.988</td>\n",
       "      <td>2295581.784967676</td>\n",
       "      <td>-0.04</td>\n",
       "      <td>85</td>\n",
       "      <td>59</td>\n",
       "      <td>NaN</td>\n",
       "      <td>NaN</td>\n",
       "    </tr>\n",
       "    <tr>\n",
       "      <th>4</th>\n",
       "      <td>WETH / USDT</td>\n",
       "      <td>uniswap_v2</td>\n",
       "      <td>0x0d4a11d5eeaac28ec3f61d100daf4d40471f1852</td>\n",
       "      <td>2618.45</td>\n",
       "      <td>54762393244</td>\n",
       "      <td>119781319934.988</td>\n",
       "      <td>4268712.08213059</td>\n",
       "      <td>-0.59</td>\n",
       "      <td>971</td>\n",
       "      <td>1552</td>\n",
       "      <td>754.0</td>\n",
       "      <td>941.0</td>\n",
       "    </tr>\n",
       "    <tr>\n",
       "      <th>1</th>\n",
       "      <td>WETH / USDT 0.3%</td>\n",
       "      <td>uniswap_v3</td>\n",
       "      <td>0x4e68ccd3e89f51c3074ca5072bbac773960dfa36</td>\n",
       "      <td>2626.31</td>\n",
       "      <td>54760023824</td>\n",
       "      <td>119781319934.988</td>\n",
       "      <td>18197623.682763</td>\n",
       "      <td>0</td>\n",
       "      <td>236</td>\n",
       "      <td>239</td>\n",
       "      <td>172.0</td>\n",
       "      <td>174.0</td>\n",
       "    </tr>\n",
       "    <tr>\n",
       "      <th>6</th>\n",
       "      <td>WETH / USDT 0.05%</td>\n",
       "      <td>uniswap_v3</td>\n",
       "      <td>0x11b815efb8f581194ae79006d24e0d814b7697f6</td>\n",
       "      <td>2626.32</td>\n",
       "      <td>55000602161</td>\n",
       "      <td>119781319934.988</td>\n",
       "      <td>18462729.407431</td>\n",
       "      <td>0.21</td>\n",
       "      <td>947</td>\n",
       "      <td>829</td>\n",
       "      <td>586.0</td>\n",
       "      <td>477.0</td>\n",
       "    </tr>\n",
       "    <tr>\n",
       "      <th>2</th>\n",
       "      <td>WETH / USDT 0.01%</td>\n",
       "      <td>uniswap_v3</td>\n",
       "      <td>0xc7bbec68d12a0d1830360f8ec58fa599ba1b0e9b</td>\n",
       "      <td>2626.32</td>\n",
       "      <td>54994972489</td>\n",
       "      <td>119781319934.988</td>\n",
       "      <td>131539886.122947</td>\n",
       "      <td>0.26</td>\n",
       "      <td>3145</td>\n",
       "      <td>3172</td>\n",
       "      <td>1903.0</td>\n",
       "      <td>1498.0</td>\n",
       "    </tr>\n",
       "    <tr>\n",
       "      <th>8</th>\n",
       "      <td>WETH / USDT 0.05%</td>\n",
       "      <td>pancakeswap-v3-ethereum</td>\n",
       "      <td>0x6ca298d2983ab03aa1da7679389d955a4efee15c</td>\n",
       "      <td>2626.32</td>\n",
       "      <td>54970838522</td>\n",
       "      <td>119781319934.988</td>\n",
       "      <td>5365278.69652589</td>\n",
       "      <td>0.16</td>\n",
       "      <td>283</td>\n",
       "      <td>231</td>\n",
       "      <td>172.0</td>\n",
       "      <td>111.0</td>\n",
       "    </tr>\n",
       "  </tbody>\n",
       "</table>\n",
       "</div>"
      ],
      "text/plain": [
       "           pair                  dex             \\\n",
       "13  USDT / WBTC / WETH                    curve   \n",
       "9   USDT / WBTC / WETH                    curve   \n",
       "4          WETH / USDT               uniswap_v2   \n",
       "1     WETH / USDT 0.3%               uniswap_v3   \n",
       "6    WETH / USDT 0.05%               uniswap_v3   \n",
       "2    WETH / USDT 0.01%               uniswap_v3   \n",
       "8    WETH / USDT 0.05%  pancakeswap-v3-ethereum   \n",
       "\n",
       "                       add                     base_token_price_quote_token  \\\n",
       "13  0xd51a44d3fae010294c616388b506acda1bfaae46          0.00001490            \n",
       "9   0xf5f5b97624542d72a9e06f04804bf81baa15e2b4          0.00001494            \n",
       "4   0x0d4a11d5eeaac28ec3f61d100daf4d40471f1852             2618.45            \n",
       "1   0x4e68ccd3e89f51c3074ca5072bbac773960dfa36             2626.31            \n",
       "6   0x11b815efb8f581194ae79006d24e0d814b7697f6             2626.32            \n",
       "2   0xc7bbec68d12a0d1830360f8ec58fa599ba1b0e9b             2626.32            \n",
       "8   0x6ca298d2983ab03aa1da7679389d955a4efee15c             2626.32            \n",
       "\n",
       "     fdv_usd      market_cap_usd     daily_volume    daily_price_change  \\\n",
       "13  54577903669  119781319934.988   591133.071068851        -0.19         \n",
       "9   54497019996  119781319934.988  2295581.784967676        -0.04         \n",
       "4   54762393244  119781319934.988   4268712.08213059        -0.59         \n",
       "1   54760023824  119781319934.988    18197623.682763            0         \n",
       "6   55000602161  119781319934.988    18462729.407431         0.21         \n",
       "2   54994972489  119781319934.988   131539886.122947         0.26         \n",
       "8   54970838522  119781319934.988   5365278.69652589         0.16         \n",
       "\n",
       "    daily_buys  daily_sells  daily_buyers  daily_sellers  \n",
       "13       49          45            NaN           NaN      \n",
       "9        85          59            NaN           NaN      \n",
       "4       971        1552          754.0         941.0      \n",
       "1       236         239          172.0         174.0      \n",
       "6       947         829          586.0         477.0      \n",
       "2      3145        3172         1903.0        1498.0      \n",
       "8       283         231          172.0         111.0      "
      ]
     },
     "execution_count": 118,
     "metadata": {},
     "output_type": "execute_result"
    }
   ],
   "source": [
    "(\n",
    "    df_token[df_token[\"pair\"]\n",
    "    .str.contains(\"WETH\")]\n",
    "    .sort_values(by = [\"base_token_price_quote_token\"], ascending = True)\n",
    ")"
   ]
  },
  {
   "cell_type": "markdown",
   "id": "be70af99-e67f-46f9-937f-4faab29fbbdf",
   "metadata": {},
   "source": [
    "## Uniswap class"
   ]
  },
  {
   "cell_type": "code",
   "execution_count": 31,
   "id": "a64707b5-fa48-4bab-8c49-5475b46e71c0",
   "metadata": {},
   "outputs": [],
   "source": [
    "from uniswap import Uniswap"
   ]
  },
  {
   "cell_type": "code",
   "execution_count": 53,
   "id": "513e9e10-9b3e-4fa8-ab8d-8f71d74ea7d4",
   "metadata": {},
   "outputs": [],
   "source": [
    "# Get wallet private key\n",
    "def get_private_key():\n",
    "    f = open(\"/home/vikas/Documents/MetaMask_private_key.json\")\n",
    "    key_dict = json.load(f)\n",
    "    return key_dict[\"private_key\"]"
   ]
  },
  {
   "cell_type": "code",
   "execution_count": 54,
   "id": "15ee3276-0fe8-43d4-b877-4c079e475499",
   "metadata": {},
   "outputs": [],
   "source": [
    "# Use None for address and private_key when not doing a transaction\n",
    "\n",
    "address = \"0xAf418C54351BA8a0Aa15Ba4A5C99C46C122B3DBC\"      \n",
    "private_key = get_private_key()    \n",
    "version = 3\n",
    "provider = \"https://rpc.ankr.com/eth\"\n",
    "\n",
    "uniswap = Uniswap(address = address,\n",
    "                  private_key = private_key,\n",
    "                  version = version,\n",
    "                  provider = provider)"
   ]
  },
  {
   "cell_type": "code",
   "execution_count": 64,
   "id": "2dfca6fb-5e4c-4e01-ba3e-7f3f329c382c",
   "metadata": {},
   "outputs": [],
   "source": [
    "# Token contract address\n",
    "# https://support.uniswap.org/hc/en-us/articles/26757826138637-What-is-a-token-contract-address\n",
    "\n",
    "eth = \"0x0000000000000000000000000000000000000000\"\n",
    "bat = \"0x0D8775F648430679A709E98d2b0Cb6250d2887EF\"\n",
    "dai = \"0x6B175474E89094C44Da98b954EedeAC495271d0F\"\n",
    "usdt = \"0xdAC17F958D2ee523a2206206994597C13D831ec7\""
   ]
  },
  {
   "cell_type": "code",
   "execution_count": 68,
   "id": "8da37d2b-160d-4072-aceb-6f34564d1295",
   "metadata": {},
   "outputs": [],
   "source": [
    "# Another wallet address\n",
    "mm_add_2 = \"0x758A71BDbb79a9FFca78C2eB82459985f6cffAFC\""
   ]
  },
  {
   "cell_type": "markdown",
   "id": "e050d765-4fff-47c6-af1f-bce2cde0527b",
   "metadata": {},
   "source": [
    "#### Get swap prices"
   ]
  },
  {
   "cell_type": "code",
   "execution_count": 71,
   "id": "ecaa0998-bc27-4ba8-8dff-5d96fe819507",
   "metadata": {},
   "outputs": [
    {
     "data": {
      "text/plain": [
       "0.001135217163866888"
      ]
     },
     "execution_count": 71,
     "metadata": {},
     "output_type": "execute_result"
    }
   ],
   "source": [
    "# Returns the amount of ETH you need to pay (in wei) to get X amount of USDT\n",
    "\n",
    "uniswap.get_price_output(eth, usdt, 3 * 10**6, fee = 100) / (10**18)"
   ]
  },
  {
   "cell_type": "markdown",
   "id": "195f7313-2b1d-43cc-b67c-333b843a1110",
   "metadata": {},
   "source": [
    "#### Check balance"
   ]
  },
  {
   "cell_type": "code",
   "execution_count": 74,
   "id": "39f538c1-9006-4bff-8c7d-f519bc887a05",
   "metadata": {},
   "outputs": [
    {
     "data": {
      "text/plain": [
       "0.004425315035114578"
      ]
     },
     "execution_count": 74,
     "metadata": {},
     "output_type": "execute_result"
    }
   ],
   "source": [
    "uniswap.get_eth_balance() / 10**18"
   ]
  },
  {
   "cell_type": "code",
   "execution_count": 76,
   "id": "0306d406-2cb9-4e03-98ec-ed2a3eea7eb8",
   "metadata": {},
   "outputs": [
    {
     "data": {
      "text/plain": [
       "3.0"
      ]
     },
     "execution_count": 76,
     "metadata": {},
     "output_type": "execute_result"
    }
   ],
   "source": [
    "uniswap.get_token_balance(usdt) / 10**6"
   ]
  },
  {
   "cell_type": "markdown",
   "id": "7252a74e-7997-4396-bc73-fcb1273a5691",
   "metadata": {},
   "source": [
    "#### Make trade"
   ]
  },
  {
   "cell_type": "code",
   "execution_count": 73,
   "id": "228fe51a-3eb8-4109-80a9-f87bb42d49b0",
   "metadata": {},
   "outputs": [],
   "source": [
    "#uniswap.make_trade_output(eth, usdt, 3 * 10**6, fee = 100)"
   ]
  }
 ],
 "metadata": {
  "kernelspec": {
   "display_name": "Python 3 (ipykernel)",
   "language": "python",
   "name": "python3"
  },
  "language_info": {
   "codemirror_mode": {
    "name": "ipython",
    "version": 3
   },
   "file_extension": ".py",
   "mimetype": "text/x-python",
   "name": "python",
   "nbconvert_exporter": "python",
   "pygments_lexer": "ipython3",
   "version": "3.10.12"
  }
 },
 "nbformat": 4,
 "nbformat_minor": 5
}
